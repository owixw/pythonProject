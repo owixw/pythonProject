{
  "nbformat": 4,
  "nbformat_minor": 0,
  "metadata": {
    "colab": {
      "provenance": []
    },
    "kernelspec": {
      "name": "python3",
      "display_name": "Python 3"
    },
    "language_info": {
      "name": "python"
    }
  },
  "cells": [
    {
      "cell_type": "markdown",
      "source": [
        "# I. Оператори порівняння та логічні оператори. Умови."
      ],
      "metadata": {
        "id": "qDEi2Pi-4yUC"
      }
    },
    {
      "cell_type": "markdown",
      "source": [
        "1. Створіть цілочисленну змінну зі своїм щасливим або улюбленим числом. Напишіть код, який би автоматизовував наступну задачу.\n",
        "\n",
        "Якщо число парне, помножте його на 2 та виведіть результат на екран.\n",
        "\n",
        "Але якщо число непарне, помножте його на 3 та додайте 1 і виведіть на екран."
      ],
      "metadata": {
        "id": "3v8D4Dkm43Ua"
      }
    },
    {
      "cell_type": "code",
      "execution_count": null,
      "metadata": {
        "id": "dlVjc-Nu4bmb",
        "colab": {
          "base_uri": "https://localhost:8080/"
        },
        "outputId": "8bc53eed-c97b-4e84-d49d-e06a73f3f08a"
      },
      "outputs": [
        {
          "output_type": "stream",
          "name": "stdout",
          "text": [
            "22\n"
          ]
        }
      ],
      "source": [
        "my_number = 7\n",
        "if my_number % 2 == 0:\n",
        "  print(my_number * 2)\n",
        "else:\n",
        "  print(my_number * 3 + 1)"
      ]
    },
    {
      "cell_type": "markdown",
      "source": [
        "2. Створіть змінну, що посилається на список. Якщо список пустий, додайте будь-який елемент у кінець списку. Якщо ж ні, то нічого не робіть."
      ],
      "metadata": {
        "id": "H669P0QK5BI_"
      }
    },
    {
      "cell_type": "code",
      "source": [
        "my_var_1 = list()\n",
        "if not my_var_1:\n",
        "  my_var_1.append(14)\n",
        "print(my_var_1)"
      ],
      "metadata": {
        "id": "ecWlfra45f6E",
        "colab": {
          "base_uri": "https://localhost:8080/"
        },
        "outputId": "b160bc81-8904-4092-bb89-84e521a76906"
      },
      "execution_count": null,
      "outputs": [
        {
          "output_type": "stream",
          "name": "stdout",
          "text": [
            "[14]\n"
          ]
        }
      ]
    },
    {
      "cell_type": "markdown",
      "source": [
        "3. Створіть рядок зі своїм імʼям латинкою. Напишіть код, який би автоматизовував наступну задачу.\n",
        "\n",
        "Якщо в імені є літера \"а\"\n",
        " або \"i\", Виведіть на екран повідомлення \"A or I is in the name\".\n",
        "\n",
        "\n",
        "\n",
        "Якщо в імені є літери \"o\" та \"n\", Виведіть на екран повідомлення \"O and N is in the name\".\n",
        "\n",
        "Також якщо в імені немає літери \"о\", але є \"n\", Виведіть на екран повідомлення \"Only N is in the name\".\n",
        "\n",
        "В решті випадків виведіть на екран повідомлення \"There is no N in the name, but there might be O\".\n",
        "\n",
        "Зверніть увагу, що, наприклад, для імені \"Antonina\" буде виведено два повідомлення."
      ],
      "metadata": {
        "id": "h9Y3cMUd5h85"
      }
    },
    {
      "cell_type": "code",
      "source": [
        "my_str_1 = \"Mariia\"\n",
        "my_str_2 = my_str_1.lower()\n",
        "if (\"a\" in my_str_2) or (\"i\" in my_str_2):\n",
        "  print(\"A or I is in the name\")\n",
        "if (\"o\" in my_str_2) or (\"n\" in my_str_2):\n",
        "  print(\"O and N is in the name\")\n",
        "elif \"n\" in my_str_2:\n",
        "  print(\"Only N is in the name\")\n",
        "else:\n",
        "  print(\"There is no N in the name, but there might be O\")"
      ],
      "metadata": {
        "id": "bUH4LUx35u52",
        "colab": {
          "base_uri": "https://localhost:8080/"
        },
        "outputId": "efaab6e5-34ce-47c8-8018-4ed5f8ec5016"
      },
      "execution_count": null,
      "outputs": [
        {
          "output_type": "stream",
          "name": "stdout",
          "text": [
            "A or I is in the name\n",
            "There is no N in the name, but there might be O\n"
          ]
        }
      ]
    },
    {
      "cell_type": "markdown",
      "source": [
        "# II. Comprehensions."
      ],
      "metadata": {
        "id": "wPCXJv4354cU"
      }
    },
    {
      "cell_type": "markdown",
      "source": [
        "4. Створіть список, використовуючи if (не if-else), range та comprehension."
      ],
      "metadata": {
        "id": "jULLW5jN55Pw"
      }
    },
    {
      "cell_type": "code",
      "source": [
        "my_list_1 = [num for num in range(10) if num % 2 != 0]\n",
        "print(my_list_1)"
      ],
      "metadata": {
        "id": "mlZalnVC6W3F",
        "colab": {
          "base_uri": "https://localhost:8080/"
        },
        "outputId": "8497ccd1-68da-462d-ba67-3b3c9c7b0ee0"
      },
      "execution_count": null,
      "outputs": [
        {
          "output_type": "stream",
          "name": "stdout",
          "text": [
            "[1, 3, 5, 7, 9]\n"
          ]
        }
      ]
    },
    {
      "cell_type": "markdown",
      "source": [
        "5. Створіть словник, використовуючи dict comprehension, що містить if else. Коли слід використовувати comprehensions, а коли їх слід уникати?"
      ],
      "metadata": {
        "id": "LqhEQ4JW6XcC"
      }
    },
    {
      "cell_type": "code",
      "source": [
        "my_dict_1 = {k: \"less than ten\" if k<10 else \"more than ten\" for k in range(0,20,5)}\n",
        "print(my_dict_1)"
      ],
      "metadata": {
        "id": "1yVaFbOs6hta",
        "colab": {
          "base_uri": "https://localhost:8080/"
        },
        "outputId": "b4f9ade7-9730-462d-d24e-137b17465f97"
      },
      "execution_count": null,
      "outputs": [
        {
          "output_type": "stream",
          "name": "stdout",
          "text": [
            "{0: 'less than ten', 5: 'less than ten', 10: 'more than ten', 15: 'more than ten'}\n"
          ]
        }
      ]
    },
    {
      "cell_type": "markdown",
      "source": [
        "Comprehensions слід використовувати для зручнрсті і для зменшення кількості коду у випадках коли треба зробити перетворення елементів у словнику, списку або множині не використовуючи цикл for. Проте comprehension доречно використовувати лише у випадках коли наявна проста логіка й невелика кількість перетворень над елементами, інакше псується читабельність коду."
      ],
      "metadata": {
        "id": "wbkzNhKq6hzz"
      }
    },
    {
      "cell_type": "markdown",
      "source": [
        "6. Створіть список з рядками та запишіть його у змінну. Створіть ще один список на основі попереднього, де кожен рядок буде містити тільки три перших заглавних символи. Наприклад: ['hello', 'i', 'dont', 'care'] -> ['HEL', 'I', 'DON', 'CAR']. Використання comprehensions обовʼязкове."
      ],
      "metadata": {
        "id": "ZlqB8G3G6lHP"
      }
    },
    {
      "cell_type": "code",
      "source": [
        "list_with_str = ['i','love','python']\n",
        "new_list_with_str = [item[:3].upper() for item in list_with_str]\n",
        "print(new_list_with_str)"
      ],
      "metadata": {
        "id": "nw6rz0bR60VC",
        "colab": {
          "base_uri": "https://localhost:8080/"
        },
        "outputId": "d7ad2819-9c36-4c69-b07d-05e68dc57d1f"
      },
      "execution_count": null,
      "outputs": [
        {
          "output_type": "stream",
          "name": "stdout",
          "text": [
            "['I', 'LOV', 'PYT']\n"
          ]
        }
      ]
    },
    {
      "cell_type": "markdown",
      "source": [
        "# III. Цикли."
      ],
      "metadata": {
        "id": "Tj573IAH64Fz"
      }
    },
    {
      "cell_type": "markdown",
      "source": [
        "7. Продемонструйте роботу циклу while. Не можна використовувати True для запуску циклу, щоб уникнути безкінечного циклу!"
      ],
      "metadata": {
        "id": "tN_33xdE65H5"
      }
    },
    {
      "cell_type": "code",
      "source": [
        "number = 1\n",
        "while number < 10:\n",
        "  print(\"number less than ten\")\n",
        "  number += 1"
      ],
      "metadata": {
        "id": "Kd9FO6yG63P5",
        "colab": {
          "base_uri": "https://localhost:8080/"
        },
        "outputId": "c195e421-3bc0-4275-f50f-1cd51c894d93"
      },
      "execution_count": null,
      "outputs": [
        {
          "output_type": "stream",
          "name": "stdout",
          "text": [
            "number less than ten\n",
            "number less than ten\n",
            "number less than ten\n",
            "number less than ten\n",
            "number less than ten\n",
            "number less than ten\n",
            "number less than ten\n",
            "number less than ten\n",
            "number less than ten\n"
          ]
        }
      ]
    },
    {
      "cell_type": "markdown",
      "source": [
        "8. Напишіть програму, яка виведе на екран непарні числа в діапазоні від 0 до 20 включно."
      ],
      "metadata": {
        "id": "x2CmfZO-7pW0"
      }
    },
    {
      "cell_type": "code",
      "source": [
        "for n in range(21):\n",
        "  if n % 2 != 0:\n",
        "    print(n)"
      ],
      "metadata": {
        "id": "aCSRYA6s7tkF",
        "colab": {
          "base_uri": "https://localhost:8080/"
        },
        "outputId": "cd925faf-6560-42fa-8699-12cff1f35ce3"
      },
      "execution_count": null,
      "outputs": [
        {
          "output_type": "stream",
          "name": "stdout",
          "text": [
            "1\n",
            "3\n",
            "5\n",
            "7\n",
            "9\n",
            "11\n",
            "13\n",
            "15\n",
            "17\n",
            "19\n"
          ]
        }
      ]
    },
    {
      "cell_type": "markdown",
      "source": [
        "9. Створіть список з елементами булевого типу або None. Використовуючи цикли, отримайте в результаті список з кортежами, де перший елемент кортежу - індекс(ціле число), а другий елемент - відповідне значення з першого списку.\n",
        "\n",
        "Наприклад, [True, True, None, False] -> [(0, True), (1, True), (2, None), (3, False)]"
      ],
      "metadata": {
        "id": "MDWNocZD7t_B"
      }
    },
    {
      "cell_type": "code",
      "source": [
        "list_bool = [True, False, None]\n",
        "new_list_bool = list()\n",
        "for i in range(len(list_bool)):\n",
        "  new_list_bool.append(tuple((i, list_bool[i])))\n",
        "print(new_list_bool)\n"
      ],
      "metadata": {
        "id": "0EUyjMdp7yfh",
        "colab": {
          "base_uri": "https://localhost:8080/"
        },
        "outputId": "01a79330-1efd-4dd0-f32f-eb7b1524b79f"
      },
      "execution_count": null,
      "outputs": [
        {
          "output_type": "stream",
          "name": "stdout",
          "text": [
            "[(0, True), (1, False), (2, None)]\n"
          ]
        }
      ]
    },
    {
      "cell_type": "markdown",
      "source": [
        "10. Створіть словник, де ключі - назви книжок, а значення - їхня кількість у наявності в Вашій міні-бібліотеці. Бібліотека має містити щонайменше 6 книжок (6 пар значень у словнику) і щонайбільше 10 (пар значень). Використовуючи цикли, оновіть словник (не створюйте новий) так, щоби кількість книг у наявності збільшилося на 5 кожної книги. Наприклад,\n",
        "{'It': 3, 'Fault stars': 10, 'Bible': 17, 'Psychological romance': 4, 'Harry Potter': 13} -> {'It': 8, 'Fault stars': 15, 'Bible': 22, 'Psychological romance': 9, 'Harry Potter': 18}"
      ],
      "metadata": {
        "id": "-6XUqlcG7zKs"
      }
    },
    {
      "cell_type": "code",
      "source": [
        "my_new_dict = {\"Sherlock Holmes\":10, \"1984\":1, \"The Housemaid\":4, \"The Body in the Library\":5, \"The Big Four\":4, \"The Mystery of the Blue Train\":6, \"It\":2}\n",
        "for v in my_new_dict:\n",
        "  my_new_dict[v] += 5\n",
        "print(my_new_dict.items())"
      ],
      "metadata": {
        "id": "Ceoj9wwb791q",
        "colab": {
          "base_uri": "https://localhost:8080/"
        },
        "outputId": "aa030f13-a310-4a00-f483-eb263f78db61"
      },
      "execution_count": null,
      "outputs": [
        {
          "output_type": "stream",
          "name": "stdout",
          "text": [
            "dict_items([('Sherlock Holmes', 15), ('1984', 6), ('The Housemaid', 9), ('The Body in the Library', 10), ('The Big Four', 9), ('The Mystery of the Blue Train', 11), ('It', 7)])\n"
          ]
        }
      ]
    },
    {
      "cell_type": "markdown",
      "source": [
        "11. Визначте цілочислену змінну n, що належить проміжку від 4 до 10 включно. Використовуючи цикли, виведіть в консоль наступний патерн.\n",
        "\n",
        "#\n",
        "##\n",
        "###\n",
        "####\n",
        "\n",
        "... #*n\n"
      ],
      "metadata": {
        "id": "QLzyJM288AC7"
      }
    },
    {
      "cell_type": "code",
      "source": [
        "n = 8\n",
        "for i in range(1,n+1):\n",
        "  print(\"#\"*i)"
      ],
      "metadata": {
        "id": "KOpng87s8Duz",
        "colab": {
          "base_uri": "https://localhost:8080/"
        },
        "outputId": "d23217d6-e850-4800-f710-fcfe1922e7e0"
      },
      "execution_count": null,
      "outputs": [
        {
          "output_type": "stream",
          "name": "stdout",
          "text": [
            "#\n",
            "##\n",
            "###\n",
            "####\n",
            "#####\n",
            "######\n",
            "#######\n",
            "########\n"
          ]
        }
      ]
    },
    {
      "cell_type": "markdown",
      "source": [
        "12. Гра \"Нумо вгадай\".\n",
        "Розробіть просту гру, де користувач має вгадати випадкове число від 1 до 100. Для генерації випадкового числа використовуйте функцію random.randint(a, b) (тут a та b включно). Для отримання числа з консолі використовуйте функцію input(), результат якої обовʼязково явно приведіть до типу int.\n",
        "\n",
        "Підказка: використовуйте цикл while та умови if-else, щоб повідомити користувачу піказки (напр. \"Більше\", \"Менше\") поки користувач не вгадає. По завершенню виведіть кількість спроб, які знадобилися для вгадування."
      ],
      "metadata": {
        "id": "_bd-bqAT8EHn"
      }
    },
    {
      "cell_type": "code",
      "source": [
        "import random\n",
        "num = random.randint(1, 100)\n",
        "quant = 1\n",
        "guess = int(input(\"Введіть число: \"))\n",
        "while guess != num:\n",
        "  if guess > num:\n",
        "    print(\"Менше\")\n",
        "  elif guess < num:\n",
        "    print(\"Більше\")\n",
        "  quant += 1\n",
        "  guess = int(input(\"Введіть число: \"))\n",
        "print(f\"You're right, quantity of guesses is {quant}\")"
      ],
      "metadata": {
        "id": "IK9nnxFK8Hkl",
        "colab": {
          "base_uri": "https://localhost:8080/"
        },
        "outputId": "dfb81212-ac76-4468-ba1d-c348fd6fef85"
      },
      "execution_count": null,
      "outputs": [
        {
          "output_type": "stream",
          "name": "stdout",
          "text": [
            "Введіть число: 50\n",
            "Більше\n",
            "Введіть число: 80\n",
            "Менше\n",
            "Введіть число: 70\n",
            "You're right, quantity of guesses is 3\n"
          ]
        }
      ]
    },
    {
      "cell_type": "markdown",
      "source": [
        "# Вітаю! Ви велика(ий) молодець, що впоралась(вся). Похваліть себе та побалуйте чимось приємним. Я Вами пишаюся."
      ],
      "metadata": {
        "id": "PXoXWb7Z8IGi"
      }
    }
  ]
}