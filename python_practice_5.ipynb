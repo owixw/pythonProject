{
 "nbformat": 4,
 "nbformat_minor": 0,
 "metadata": {
  "colab": {
   "provenance": []
  },
  "kernelspec": {
   "name": "python3",
   "display_name": "Python 3"
  },
  "language_info": {
   "name": "python"
  }
 },
 "cells": [
  {
   "cell_type": "markdown",
   "source": [
    "# I. OOP"
   ],
   "metadata": {
    "id": "5qV_sehzFCTp"
   }
  },
  {
   "cell_type": "markdown",
   "source": [
    "1. (6б). Створіть клас Animal, додайте три атрибути, один з яких має значення за замовчуванням та два методи на свій розсуд."
   ],
   "metadata": {
    "id": "tx_U_hOALyfg"
   }
  },
  {
   "cell_type": "code",
   "source": [
    "class Animal:\n",
    "  def __init__(self, name, species, size=10):\n",
    "    self.name = name\n",
    "    self.size = size\n",
    "    self.species = species\n",
    "\n",
    "  def eat(self, food):\n",
    "    print(f\"Animal {self.name} eats {food}\")\n",
    "\n",
    "  def difference_in_size(self, other):\n",
    "    if isinstance(other, Animal):\n",
    "      print(f\"{abs(self.size - other.size)}\")"
   ],
   "metadata": {
    "id": "-Vf895KaL88N"
   },
   "execution_count": 2,
   "outputs": []
  },
  {
   "cell_type": "markdown",
   "source": [
    "2. (2б). Створіть два обʼєкти цього класу, де один з обʼєктів створюється із дефолтним значенням атрибуту. На одному обʼєкті отримайте значення його атрибуту, а на іншому викличте один з його методів."
   ],
   "metadata": {
    "id": "X_UlOMB0L93w"
   }
  },
  {
   "cell_type": "code",
   "source": [
    "new_dog = Animal(\"Kobi\", \"dog\")\n",
    "new_parrot = Animal(\"Gosha\", \"bird\", 1)\n",
    "\n",
    "print(new_parrot.size)\n",
    "new_dog.eat(\"meat\")"
   ],
   "metadata": {
    "id": "7gBu0ESOMCpG",
    "colab": {
     "base_uri": "https://localhost:8080/",
     "height": 0
    },
    "outputId": "2895a9f9-9542-4426-fef8-e7a60f99976e"
   },
   "execution_count": 5,
   "outputs": [
    {
     "output_type": "stream",
     "name": "stdout",
     "text": [
      "1\n",
      "Animal Kobi eats meat\n"
     ]
    }
   ]
  },
  {
   "cell_type": "markdown",
   "source": [
    "3. (5б). Створіть клас, де атрибути мають різні рівні доступу. Спробуйте отримати їхні значення та опишіть результати."
   ],
   "metadata": {
    "id": "HoqSCZt1MHn5"
   }
  },
  {
   "cell_type": "code",
   "source": [
    "class Students:\n",
    "  def __init__(self, name, specialization, average_grade):\n",
    "    self.name = name\n",
    "    self._specialization = specialization\n",
    "    self.__average_grade = average_grade\n",
    "\n",
    "first_student = Students(\"Mariia Andrianova\", \"Finance and banking\", 97.4)\n",
    "\n",
    "print(first_student.name)\n",
    "print(first_student._specialization)\n",
    "print(first_student.__average_grade)"
   ],
   "metadata": {
    "id": "r9b3vJxBMSPV",
    "colab": {
     "base_uri": "https://localhost:8080/",
     "height": 211
    },
    "outputId": "16fd2b0c-edb5-49f6-fefc-9916dce4e398"
   },
   "execution_count": 7,
   "outputs": [
    {
     "output_type": "stream",
     "name": "stdout",
     "text": [
      "Mariia Andrianova\n",
      "Finance and banking\n"
     ]
    },
    {
     "output_type": "error",
     "ename": "AttributeError",
     "evalue": "'Students' object has no attribute '__average_grade'",
     "traceback": [
      "\u001B[0;31m---------------------------------------------------------------------------\u001B[0m",
      "\u001B[0;31mAttributeError\u001B[0m                            Traceback (most recent call last)",
      "\u001B[0;32m<ipython-input-7-c8d877064a9b>\u001B[0m in \u001B[0;36m<cell line: 11>\u001B[0;34m()\u001B[0m\n\u001B[1;32m      9\u001B[0m \u001B[0mprint\u001B[0m\u001B[0;34m(\u001B[0m\u001B[0mfirst_student\u001B[0m\u001B[0;34m.\u001B[0m\u001B[0mname\u001B[0m\u001B[0;34m)\u001B[0m\u001B[0;34m\u001B[0m\u001B[0;34m\u001B[0m\u001B[0m\n\u001B[1;32m     10\u001B[0m \u001B[0mprint\u001B[0m\u001B[0;34m(\u001B[0m\u001B[0mfirst_student\u001B[0m\u001B[0;34m.\u001B[0m\u001B[0m_specialization\u001B[0m\u001B[0;34m)\u001B[0m\u001B[0;34m\u001B[0m\u001B[0;34m\u001B[0m\u001B[0m\n\u001B[0;32m---> 11\u001B[0;31m \u001B[0mprint\u001B[0m\u001B[0;34m(\u001B[0m\u001B[0mfirst_student\u001B[0m\u001B[0;34m.\u001B[0m\u001B[0m__average_grade\u001B[0m\u001B[0;34m)\u001B[0m\u001B[0;34m\u001B[0m\u001B[0;34m\u001B[0m\u001B[0m\n\u001B[0m",
      "\u001B[0;31mAttributeError\u001B[0m: 'Students' object has no attribute '__average_grade'"
     ]
    }
   ]
  },
  {
   "cell_type": "markdown",
   "source": [
    "Ззовні класу ми маємо змогу доступитись лише до public та protected атрибутів. Не дивлячись на те, що неможливість доступу до protected атрибутів програмно не реалізована, вона серед розробників існує на домовленостях. Спроба доступитись до private атрибуту викликає помилку."
   ],
   "metadata": {
    "id": "dLw0Rnn_08mW"
   }
  },
  {
   "cell_type": "markdown",
   "source": [
    "4. (7б). Як ви розумієте термін self? Для чого використовується метод __init __?"
   ],
   "metadata": {
    "id": "5op2m2vgMSkZ"
   }
  },
  {
   "cell_type": "markdown",
   "source": [
    "Self завжди є першим агрументом в методах класу і по суті є посиланням на конкретний об'єкт\n",
    "Метод __init__ є визначенням функції ініціалізації об'єктів певного класу, є спеціальним або дандер методом, тобто використовується не для явного застосування. Ми визначаємо цей метод для того, щоб ініціалізувати якийсь об'єкт зі значеннями його атрибутів."
   ],
   "metadata": {
    "id": "DyiPqNRvMasx"
   }
  },
  {
   "cell_type": "markdown",
   "source": [
    "5. (9б). Створіть клас Фігура без атрибутів, з методом get_area для отримання площі фігури, що повертає 0 та __add __, який приймає self та other в якості аргументів, а повертає суму площин фігур self та other."
   ],
   "metadata": {
    "id": "-6X8EGfjMd2y"
   }
  },
  {
   "cell_type": "code",
   "source": [
    "class Figure:\n",
    "\n",
    "  def get_area(self):\n",
    "    return 0\n",
    "\n",
    "  def __add__(self, other):\n",
    "    return self.get_area() + other.get_area()"
   ],
   "metadata": {
    "id": "4rvO_wYUMaEr"
   },
   "execution_count": 9,
   "outputs": []
  },
  {
   "cell_type": "markdown",
   "source": [
    "6. (11б). Створіть 2 дочірніх класи від Фігури: Трикутник та Коло, які мають атрибути, необхідні для розрахунку площин. Визначте метод get_area в кожному з них так, щоби вони розраховували площу в залежності від формули для кожного типу фігури. Створіть обʼєкт класу Трикутник та обʼєкт класу Коло. Виконайте операцію суми за допомогою оператора + між ними."
   ],
   "metadata": {
    "id": "SFcKnnv5Mo_z"
   }
  },
  {
   "cell_type": "code",
   "source": [
    "import math\n",
    "\n",
    "\n",
    "class Triangle(Figure):\n",
    "\n",
    "  def __init__(self, side, height):\n",
    "    self.side = side\n",
    "    self.height = height\n",
    "\n",
    "  def get_area(self):\n",
    "    return 0.5 * self.side * self.height\n",
    "\n",
    "\n",
    "class Circle(Figure):\n",
    "\n",
    "  def __init__(self, radius):\n",
    "    self.radius = radius\n",
    "\n",
    "  def get_area(self):\n",
    "    return self.radius**2 * math.pi\n",
    "\n",
    "\n",
    "my_triangle = Triangle(10, 7)\n",
    "my_circle = Circle(8)\n",
    "\n",
    "print(my_triangle + my_circle)\n"
   ],
   "metadata": {
    "id": "H3GVNr69Muf3",
    "colab": {
     "base_uri": "https://localhost:8080/",
     "height": 0
    },
    "outputId": "8bf22321-50c6-4099-c141-b0d220682c9d"
   },
   "execution_count": 11,
   "outputs": [
    {
     "output_type": "stream",
     "name": "stdout",
     "text": [
      "236.06192982974676\n"
     ]
    }
   ]
  },
  {
   "cell_type": "markdown",
   "source": [
    "7. (3б). Продемонструйте різницю між isinstance та issubclass."
   ],
   "metadata": {
    "id": "HCvR206YMvLK"
   }
  },
  {
   "cell_type": "code",
   "source": [
    "print(isinstance(Triangle, Figure))\n",
    "print(issubclass(Triangle, Figure))\n",
    "print(issubclass(Triangle, Triangle))\n",
    "print(isinstance(my_triangle, Triangle))\n",
    "print(isinstance(my_triangle, Figure))"
   ],
   "metadata": {
    "id": "L_V1bBvDM0GN",
    "colab": {
     "base_uri": "https://localhost:8080/",
     "height": 0
    },
    "outputId": "7c1ffbdc-b289-4251-ed0e-c7c4f95b2b51"
   },
   "execution_count": 12,
   "outputs": [
    {
     "output_type": "stream",
     "name": "stdout",
     "text": [
      "False\n",
      "True\n",
      "True\n",
      "True\n",
      "True\n"
     ]
    }
   ]
  },
  {
   "cell_type": "markdown",
   "source": [
    "8. (13б). Створіть клас BankAccount з приватними атрибутами balance та account_number. Реалізуйте методи поповнення та зняття коштів, забезпечивши належну інкапсуляцію. Підказка: використовуйте декоратори property та setter."
   ],
   "metadata": {
    "id": "jjsaBZ-iM0Qq"
   }
  },
  {
   "cell_type": "code",
   "source": [
    "class BankAccount:\n",
    "\n",
    "  def __init__(self, balance, account_number):\n",
    "    self.__balance = balance\n",
    "    self.__account_number = account_number\n",
    "\n",
    "  @property\n",
    "  def balance(self):\n",
    "    return self.__balance\n",
    "\n",
    "  @balance.setter\n",
    "  def balance(self, value):\n",
    "    self.__balance = value\n",
    "\n",
    "  @property\n",
    "  def account_number(self):\n",
    "    return self.__account_number\n",
    "\n",
    "  @account_number.setter\n",
    "  def account_number(self, value):\n",
    "    self.__account_number = value\n",
    "\n",
    "  def replenishment_of_funds(self, funds):\n",
    "    self.__balance += funds\n",
    "\n",
    "  def withdrawal_of_funds(self, funds):\n",
    "    if funds <= self.__balance:\n",
    "      self.__balance -= funds\n",
    "    else:\n",
    "      print(\"You can't withdraw funds\")\n",
    "\n",
    "\n",
    "my_bank_account = BankAccount(2000, 13616)\n",
    "print(my_bank_account.balance)\n",
    "my_bank_account.replenishment_of_funds(200)\n",
    "print(my_bank_account.balance)\n",
    "my_bank_account.withdrawal_of_funds(400)\n",
    "print(my_bank_account.balance)\n",
    "my_bank_account.withdrawal_of_funds(2400)\n",
    "print(my_bank_account.balance)"
   ],
   "metadata": {
    "id": "xCvZ7lh8M7YA",
    "colab": {
     "base_uri": "https://localhost:8080/",
     "height": 0
    },
    "outputId": "1890b8c5-cfbf-45a1-ef46-7d20d1b7ca95"
   },
   "execution_count": 17,
   "outputs": [
    {
     "output_type": "stream",
     "name": "stdout",
     "text": [
      "2000\n",
      "2200\n",
      "1800\n",
      "You can't withdraw funds\n",
      "1800\n"
     ]
    }
   ]
  },
  {
   "cell_type": "markdown",
   "source": [
    "9. (11б). Створіть клас Library, який містить список об'єктів типу Book. Реалізуйте методи для додавання книги, видалення книги та відображення списку книг."
   ],
   "metadata": {
    "id": "tIzL2SJTM8ft"
   }
  },
  {
   "cell_type": "code",
   "source": [
    "class Book:\n",
    "\n",
    "  def __init__(self, author, title):\n",
    "    self.author = author\n",
    "    self.title = title\n",
    "\n",
    "  def __str__(self):\n",
    "    return f\"Author: {self.author}, Title: {self.title}\"\n",
    "\n",
    "\n",
    "class Library:\n",
    "\n",
    "  def __init__(self):\n",
    "    self.list_of_books = []\n",
    "\n",
    "  def __str__(self):\n",
    "    my_list = '\\n'.join(str(book) for book in self.list_of_books)\n",
    "    return f\"List of books: \\n{my_list}\"\n",
    "\n",
    "  def add_book(self, book):\n",
    "    if isinstance(book, Book):\n",
    "      self.list_of_books.append(book)\n",
    "    else:\n",
    "      print(f\"{book} isn't found\")\n",
    "\n",
    "  def delete_book(self, book):\n",
    "    if book in self.list_of_books:\n",
    "      self.list_of_books.remove(book)\n",
    "    else:\n",
    "      print(f\"{book} isn't found\")\n",
    "\n",
    "my_book_1 = Book(\"Arthur Conan Doyle\", \"Sherlock Holmes\")\n",
    "my_book_2 = Book(\"Agatha Christie\", \"The Body in the Library\")\n",
    "my_book_3 = Book(\"John Fowles\", \"The Collector\")\n",
    "\n",
    "library = Library()\n",
    "library.add_book(my_book_1)\n",
    "library.add_book(my_book_2)\n",
    "library.add_book(my_book_3)\n",
    "print(library)\n",
    "library.delete_book(my_book_2)\n",
    "print(library)"
   ],
   "metadata": {
    "id": "HWxfJKLtNAUZ",
    "colab": {
     "base_uri": "https://localhost:8080/",
     "height": 0
    },
    "outputId": "e13a9174-37f1-469b-a7a5-a32256915a89"
   },
   "execution_count": 23,
   "outputs": [
    {
     "output_type": "stream",
     "name": "stdout",
     "text": [
      "List of books: \n",
      "Author: Arthur Conan Doyle, Title: Sherlock Holmes\n",
      "Author: Agatha Christie, Title: The Body in the Library\n",
      "Author: John Fowles, Title: The Collector\n",
      "List of books: \n",
      "Author: Arthur Conan Doyle, Title: Sherlock Holmes\n",
      "Author: John Fowles, Title: The Collector\n"
     ]
    }
   ]
  },
  {
   "cell_type": "markdown",
   "source": [
    "10. (13б). Створіть клас Person з атрибутами name та age. Створіть ще один клас Employee з такими атрибутами, як department та salary. Створіть клас Manager, який успадковує обидва класи Person та Employee. Продемонструйте використання множинної спадковості, створивши обʼєкт класу Manager та отримавши mro для цього класу."
   ],
   "metadata": {
    "id": "lmV8pAwwNIqu"
   }
  },
  {
   "cell_type": "code",
   "source": [
    "class Person:\n",
    "\n",
    "  def __init__(self, name, age):\n",
    "    self.name = name\n",
    "    self.age = age\n",
    "\n",
    "\n",
    "class Employee:\n",
    "\n",
    "  def __init__(self, department, salary):\n",
    "    self.department = department\n",
    "    self.salary = salary\n",
    "\n",
    "\n",
    "class Manager(Person, Employee):\n",
    "\n",
    "  def __init__(self, name, age, department, salary):\n",
    "    Person.__init__(self, name, age)\n",
    "    Employee.__init__(self, department, salary)\n",
    "\n",
    "\n",
    "manager = Manager(\"Alex\", 23, \"Financial\", 30000)\n",
    "Manager.__mro__"
   ],
   "metadata": {
    "id": "R49grKlWNPeN",
    "colab": {
     "base_uri": "https://localhost:8080/",
     "height": 0
    },
    "outputId": "bff793aa-8c0f-4981-ab0c-683cc0608b2e"
   },
   "execution_count": 24,
   "outputs": [
    {
     "output_type": "execute_result",
     "data": {
      "text/plain": [
       "(__main__.Manager, __main__.Person, __main__.Employee, object)"
      ]
     },
     "metadata": {},
     "execution_count": 24
    }
   ]
  },
  {
   "cell_type": "markdown",
   "source": [
    "# II. Iterator"
   ],
   "metadata": {
    "id": "dIJyUiNBFG8G"
   }
  },
  {
   "cell_type": "markdown",
   "source": [
    "11. (4б). Визначте рядок(str) з 4ма різними за значенням символами. Створіть ітератор на основі цього рядка. Викличте 5 разів функцію next на ітераторі, 4ри перших з них огорніть у ф-цію print()."
   ],
   "metadata": {
    "id": "13vsm0NyKIzL"
   }
  },
  {
   "cell_type": "code",
   "source": [
    "my_str = '1234'\n",
    "my_str_iter = iter(my_str)\n",
    "print(next(my_str_iter))\n",
    "print(next(my_str_iter))\n",
    "print(next(my_str_iter))\n",
    "print(next(my_str_iter))\n",
    "print(next(my_str_iter))"
   ],
   "metadata": {
    "id": "81ntabAkKuz-",
    "colab": {
     "base_uri": "https://localhost:8080/",
     "height": 245
    },
    "outputId": "e11bd1a5-bcb2-4447-a840-a24338b11b03"
   },
   "execution_count": 33,
   "outputs": [
    {
     "output_type": "stream",
     "name": "stdout",
     "text": [
      "1\n",
      "2\n",
      "3\n",
      "4\n"
     ]
    },
    {
     "output_type": "error",
     "ename": "StopIteration",
     "evalue": "",
     "traceback": [
      "\u001B[0;31m---------------------------------------------------------------------------\u001B[0m",
      "\u001B[0;31mStopIteration\u001B[0m                             Traceback (most recent call last)",
      "\u001B[0;32m<ipython-input-33-4565b7570373>\u001B[0m in \u001B[0;36m<cell line: 7>\u001B[0;34m()\u001B[0m\n\u001B[1;32m      5\u001B[0m \u001B[0mprint\u001B[0m\u001B[0;34m(\u001B[0m\u001B[0mnext\u001B[0m\u001B[0;34m(\u001B[0m\u001B[0mmy_str_iter\u001B[0m\u001B[0;34m)\u001B[0m\u001B[0;34m)\u001B[0m\u001B[0;34m\u001B[0m\u001B[0;34m\u001B[0m\u001B[0m\n\u001B[1;32m      6\u001B[0m \u001B[0mprint\u001B[0m\u001B[0;34m(\u001B[0m\u001B[0mnext\u001B[0m\u001B[0;34m(\u001B[0m\u001B[0mmy_str_iter\u001B[0m\u001B[0;34m)\u001B[0m\u001B[0;34m)\u001B[0m\u001B[0;34m\u001B[0m\u001B[0;34m\u001B[0m\u001B[0m\n\u001B[0;32m----> 7\u001B[0;31m \u001B[0mprint\u001B[0m\u001B[0;34m(\u001B[0m\u001B[0mnext\u001B[0m\u001B[0;34m(\u001B[0m\u001B[0mmy_str_iter\u001B[0m\u001B[0;34m)\u001B[0m\u001B[0;34m)\u001B[0m\u001B[0;34m\u001B[0m\u001B[0;34m\u001B[0m\u001B[0m\n\u001B[0m",
      "\u001B[0;31mStopIteration\u001B[0m: "
     ]
    }
   ]
  },
  {
   "cell_type": "markdown",
   "source": [
    "А що якщо викликати цю ж функцію на рядку?"
   ],
   "metadata": {
    "id": "aekWHGXOLRsO"
   }
  },
  {
   "cell_type": "code",
   "source": [
    "next(my_str)"
   ],
   "metadata": {
    "id": "mxATGsErLV1i",
    "colab": {
     "base_uri": "https://localhost:8080/",
     "height": 141
    },
    "outputId": "fa343527-8986-4c1a-9156-666572fc400c"
   },
   "execution_count": 34,
   "outputs": [
    {
     "output_type": "error",
     "ename": "TypeError",
     "evalue": "'str' object is not an iterator",
     "traceback": [
      "\u001B[0;31m---------------------------------------------------------------------------\u001B[0m",
      "\u001B[0;31mTypeError\u001B[0m                                 Traceback (most recent call last)",
      "\u001B[0;32m<ipython-input-34-b507c466c498>\u001B[0m in \u001B[0;36m<cell line: 1>\u001B[0;34m()\u001B[0m\n\u001B[0;32m----> 1\u001B[0;31m \u001B[0mnext\u001B[0m\u001B[0;34m(\u001B[0m\u001B[0mmy_str\u001B[0m\u001B[0;34m)\u001B[0m\u001B[0;34m\u001B[0m\u001B[0;34m\u001B[0m\u001B[0m\n\u001B[0m",
      "\u001B[0;31mTypeError\u001B[0m: 'str' object is not an iterator"
     ]
    }
   ]
  },
  {
   "cell_type": "markdown",
   "source": [
    " 12. (5б). Опишіть своїми словами в одному реченні, як ви розумієте різницю між ітерабельними обʼєктами та ітераторами (можна на прикладі)."
   ],
   "metadata": {
    "id": "XwtMEopwJ4pH"
   }
  },
  {
   "cell_type": "markdown",
   "source": [
    "Ітератори - це об'єкти, які використовуються для того, щоб ітеруватись по ітерабельним об'єктам (в якомусь сенсі є вказівником, який гуляє по ітерабельним об'єктам)."
   ],
   "metadata": {
    "id": "-sHrODc3KFn8"
   }
  },
  {
   "cell_type": "markdown",
   "source": [
    "13. (11б). Створіть клас, що має визначений Iterator Protocol та при кожному виклику next повертає літери англійської абетки, поки вони не вичерпаються."
   ],
   "metadata": {
    "id": "E9qJWmNbK8Gl"
   }
  },
  {
   "cell_type": "code",
   "source": [
    "class Alphabet:\n",
    "\n",
    "  def __init__(self):\n",
    "    self.current = \"a\"\n",
    "\n",
    "  def __iter__(self):\n",
    "    return self\n",
    "\n",
    "  def __next__(self):\n",
    "    if ord(self.current) > ord(\"z\"):\n",
    "      raise StopIteration\n",
    "    else:\n",
    "      result = self.current\n",
    "      self.current = chr(ord(self.current)+1)\n",
    "      return result\n",
    "\n",
    "\n",
    "alphabet = Alphabet()\n",
    "for i in alphabet:\n",
    "  print(i)"
   ],
   "metadata": {
    "id": "cqx-g_RsLo6I",
    "colab": {
     "base_uri": "https://localhost:8080/",
     "height": 0
    },
    "outputId": "1562b563-72ff-40c0-8fa4-b0b46abcedbe"
   },
   "execution_count": 35,
   "outputs": [
    {
     "output_type": "stream",
     "name": "stdout",
     "text": [
      "a\n",
      "b\n",
      "c\n",
      "d\n",
      "e\n",
      "f\n",
      "g\n",
      "h\n",
      "i\n",
      "j\n",
      "k\n",
      "l\n",
      "m\n",
      "n\n",
      "o\n",
      "p\n",
      "q\n",
      "r\n",
      "s\n",
      "t\n",
      "u\n",
      "v\n",
      "w\n",
      "x\n",
      "y\n",
      "z\n"
     ]
    }
   ]
  },
  {
   "cell_type": "markdown",
   "source": [
    "# Вітаю! Ви велика(ий) молодець, що впоралась(вся). Похваліть себе та побалуйте чимось приємним. Я Вами пишаюся.\n",
    "\n",
    "💖💖💖\n"
   ],
   "metadata": {
    "id": "Z3E3S_s1Fv7-"
   }
  }
 ]
}
